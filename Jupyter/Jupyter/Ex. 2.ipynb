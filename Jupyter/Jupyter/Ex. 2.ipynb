{
 "cells": [
  {
   "cell_type": "markdown",
   "metadata": {
    "slideshow": {
     "slide_type": "slide"
    }
   },
   "source": [
    "# Deep Learning"
   ]
  },
  {
   "cell_type": "markdown",
   "metadata": {
    "slideshow": {
     "slide_type": "slide"
    }
   },
   "source": [
    "## O que é Deep Learning?"
   ]
  },
  {
   "cell_type": "markdown",
   "metadata": {
    "slideshow": {
     "slide_type": "fragment"
    }
   },
   "source": [
    "Falando de uma forma bem simples de entender, Deep Learning (aprendizagem profunda, em português) é um tema emergente dentro do campo da Inteligência Artificial. Uma subcategoria de aprendizado de máquina que diz respeito a oportunidades de aprendizagem profundas com o uso de redes neurais para melhorar as coisas, tais como reconhecimento de fala, visão computacional e processamento de linguagem natural. Isso está rapidamente se tornando um dos mais estudados e procurados campos dentro da ciência da computação moderna."
   ]
  },
  {
   "cell_type": "markdown",
   "metadata": {
    "slideshow": {
     "slide_type": "slide"
    }
   },
   "source": [
    "## Como funciona o Deep Learning na prática?"
   ]
  },
  {
   "cell_type": "markdown",
   "metadata": {},
   "source": [
    "Tecnicamente falando, o Deep Learning faz o “treinamento” de um modelo computacional para que ele possa decifrar a linguagem natural. O modelo relaciona termos e palavras para inferir significado, uma vez que é alimentado com grandes quantidades de dados.\n",
    "\n",
    "Em geral, as máquinas já são previamente “ensinadas” a ler os documentos e podem responder a questões colocadas sobre o seu conteúdo, mas as suas bases de conhecimento normalmente estão limitadas pelo tamanho dos arquivos. Como a quantidade de algorítimos online não para de crescer, a abordagem Deep Learning vem para fazer com que os sistemas possam fazer uso de um maior número de linguagem natural, concedendo-lhe uma compreensão mais profunda de temas universais."
   ]
  },
  {
   "cell_type": "markdown",
   "metadata": {
    "slideshow": {
     "slide_type": "slide"
    }
   },
   "source": [
    "## Como Deep Learning vem sendo usado?"
   ]
  },
  {
   "cell_type": "markdown",
   "metadata": {
    "slideshow": {
     "slide_type": "fragment"
    }
   },
   "source": [
    "Algumas das principais aplicações de Deep Learning, utilizadas atualmente, são:\n",
    "\n",
    "* compreensão do comportamento do cliente, realizado por sites de e-commerce robustos (Amazon e eBay). Durante todo o tempo no site, os dados do consumidor são coletados. Quanto maior a experiência no local, maiores serão as chances de efetivar a compra. Assim, o site é otimizado a cada acesso por meio dos dados gerados, para que a experiência para aquele cliente seja mais envolvente;\n",
    "* reconhecimento facial. Essa aplicação já é utilizada em sites de redes sociais, como o Facebook, para identificar quais são os potenciais usuários a serem marcados em uma determinada foto. Porém, atualmente, tem sido bastante utilizada para os sistemas de segurança. No carnaval de 2019, inclusive, o sistema auxiliou a Polícia Militar da Bahia a prender um homem foragido, reconhecido por meio desse tipo de sistema;\n",
    "* suporte técnico personalizado, de forma que não é necessário, em muitos casos, atendentes humanos para prestar o serviço de assistência remota a um cliente. Alguns exemplos são a Clara, o Howdy e o GridSpace Sift;"
   ]
  },
  {
   "cell_type": "markdown",
   "metadata": {
    "slideshow": {
     "slide_type": "subslide"
    }
   },
   "source": [
    "* classificação de doenças. Por exemplo, há hoje tecnologias que auxiliam oftalmologistas em exames médicos para identificar, por exemplo, retinas afetadas pela diabetes, por meio da análise de imagens;\n",
    "* redução no erro do diagnóstico de câncer, auxiliando na identificação de células cancerígenas por meio das imagens dos linfonodos;\n",
    "* carros autônomos. Por meio de um Computador Neural Diferenciável (DNC), ao ser apresentado a mapas, linhas e paradas, o carro consegue se conduzir para uma rota mais curta, facilitando as viagens.\n",
    "\n",
    "Esses são apenas alguns dos exemplos que evidenciam como o Deep Learning até mesmo já saiu do campo do TI e consegue ser aplicado nos mais diferentes ramos (segurança, medicina, análise de imagens, redes sociais, e-commerce, segurança, entre outros)."
   ]
  },
  {
   "cell_type": "markdown",
   "metadata": {
    "slideshow": {
     "slide_type": "slide"
    }
   },
   "source": [
    "## Como o Deep Learning pode otimizar os processos de TI de uma empresa?\n"
   ]
  },
  {
   "cell_type": "markdown",
   "metadata": {
    "slideshow": {
     "slide_type": "fragment"
    }
   },
   "source": [
    "O Deep Learning pode ser um aliado essencial para potencializar as inovações no setor de TI do seu negócio. Isso porque, pela sua capacidade de resolver o entendimento de dados, consegue-se analisar um grande volume de informações que chegam até o sistema, facilitando o entendimento sobre suas soluções atuais e encontrando possíveis gargalos, de forma a criar soluções para resolvê-los.\n",
    "\n",
    "Também é possível, por meio desse conceito, automatizar atividades que são rotineiras e mecânicas dentro do setor de TI, de forma que possam ser executados sem a necessidade de intervenção humana no processo. Ganha-se assim em eficiência, agilidade e precisão nesses processos. Os profissionais que seriam responsáveis por essas tarefas podem ter seus esforços direcionados para questões mais analíticas, o que permitiria aumentar o grau de criatividade no desenvolvimento e, também, melhorar as partes analíticas dos processos de desenvolvimento, criação e testes.\n",
    "\n",
    "Também auxilia na tomada de decisões dentro do setor de TI. Por meio de uma gestão orientada a dados, com os insights oferecidos pelo Deep Learning, os indicadores e relatórios apresentam uma maior precisão, permitindo otimizar as operações internas e, até mesmo, operações externas, oferecendo subsídios para outras áreas da empresa (como marketing e vendas)."
   ]
  }
 ],
 "metadata": {
  "celltoolbar": "Slideshow",
  "kernelspec": {
   "display_name": "Python 3",
   "language": "python",
   "name": "python3"
  },
  "language_info": {
   "codemirror_mode": {
    "name": "ipython",
    "version": 3
   },
   "file_extension": ".py",
   "mimetype": "text/x-python",
   "name": "python",
   "nbconvert_exporter": "python",
   "pygments_lexer": "ipython3",
   "version": "3.8.5"
  }
 },
 "nbformat": 4,
 "nbformat_minor": 4
}
