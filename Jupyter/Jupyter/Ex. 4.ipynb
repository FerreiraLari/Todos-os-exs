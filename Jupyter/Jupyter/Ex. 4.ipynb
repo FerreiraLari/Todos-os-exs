{
 "cells": [
  {
   "cell_type": "markdown",
   "metadata": {},
   "source": [
    "É só colocar uma \"\\\\\" antes da sintaxe que ela vira um caractere simples\n",
    "\n",
    "Lorem ipsum \\**dolor sit amet, consectetur adipiscing elit. \\_Proin lacinia malesuada lobortis. \\## Uti aliquam dictum arcu, vel eleifend dolor pellentesque molestie. \\~Nam eget augue purus. Ut ac risus libero."
   ]
  }
 ],
 "metadata": {
  "kernelspec": {
   "display_name": "Python 3",
   "language": "python",
   "name": "python3"
  },
  "language_info": {
   "codemirror_mode": {
    "name": "ipython",
    "version": 3
   },
   "file_extension": ".py",
   "mimetype": "text/x-python",
   "name": "python",
   "nbconvert_exporter": "python",
   "pygments_lexer": "ipython3",
   "version": "3.8.5"
  }
 },
 "nbformat": 4,
 "nbformat_minor": 4
}
