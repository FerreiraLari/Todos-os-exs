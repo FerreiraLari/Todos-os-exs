{
 "cells": [
  {
   "cell_type": "code",
   "execution_count": 1,
   "metadata": {},
   "outputs": [
    {
     "data": {
      "text/plain": [
       "[]"
      ]
     },
     "execution_count": 1,
     "metadata": {},
     "output_type": "execute_result"
    }
   ],
   "source": [
    "# Mostra as variáveis que você está utilizando nesse notebook:\n",
    "\n",
    "%who_ls"
   ]
  },
  {
   "cell_type": "code",
   "execution_count": 2,
   "metadata": {},
   "outputs": [
    {
     "data": {
      "text/plain": [
       "['qui 13 ago 2020 11:02:03 -03']"
      ]
     },
     "execution_count": 2,
     "metadata": {},
     "output_type": "execute_result"
    }
   ],
   "source": [
    "#mostra a hora do sistema\n",
    "\n",
    "%system date"
   ]
  },
  {
   "cell_type": "code",
   "execution_count": 3,
   "metadata": {},
   "outputs": [
    {
     "data": {
      "application/json": {
       "cell": {
        "!": "OSMagics",
        "HTML": "Other",
        "SVG": "Other",
        "bash": "Other",
        "capture": "ExecutionMagics",
        "debug": "ExecutionMagics",
        "file": "Other",
        "html": "DisplayMagics",
        "javascript": "DisplayMagics",
        "js": "DisplayMagics",
        "latex": "DisplayMagics",
        "markdown": "DisplayMagics",
        "perl": "Other",
        "prun": "ExecutionMagics",
        "pypy": "Other",
        "python": "Other",
        "python2": "Other",
        "python3": "Other",
        "ruby": "Other",
        "script": "ScriptMagics",
        "sh": "Other",
        "svg": "DisplayMagics",
        "sx": "OSMagics",
        "system": "OSMagics",
        "time": "ExecutionMagics",
        "timeit": "ExecutionMagics",
        "writefile": "OSMagics"
       },
       "line": {
        "alias": "OSMagics",
        "alias_magic": "BasicMagics",
        "autoawait": "AsyncMagics",
        "autocall": "AutoMagics",
        "automagic": "AutoMagics",
        "autosave": "KernelMagics",
        "bookmark": "OSMagics",
        "cat": "Other",
        "cd": "OSMagics",
        "clear": "KernelMagics",
        "colors": "BasicMagics",
        "conda": "PackagingMagics",
        "config": "ConfigMagics",
        "connect_info": "KernelMagics",
        "cp": "Other",
        "debug": "ExecutionMagics",
        "dhist": "OSMagics",
        "dirs": "OSMagics",
        "doctest_mode": "BasicMagics",
        "ed": "Other",
        "edit": "KernelMagics",
        "env": "OSMagics",
        "gui": "BasicMagics",
        "hist": "Other",
        "history": "HistoryMagics",
        "killbgscripts": "ScriptMagics",
        "ldir": "Other",
        "less": "KernelMagics",
        "lf": "Other",
        "lk": "Other",
        "ll": "Other",
        "load": "CodeMagics",
        "load_ext": "ExtensionMagics",
        "loadpy": "CodeMagics",
        "logoff": "LoggingMagics",
        "logon": "LoggingMagics",
        "logstart": "LoggingMagics",
        "logstate": "LoggingMagics",
        "logstop": "LoggingMagics",
        "ls": "Other",
        "lsmagic": "BasicMagics",
        "lx": "Other",
        "macro": "ExecutionMagics",
        "magic": "BasicMagics",
        "man": "KernelMagics",
        "matplotlib": "PylabMagics",
        "mkdir": "Other",
        "more": "KernelMagics",
        "mv": "Other",
        "notebook": "BasicMagics",
        "page": "BasicMagics",
        "pastebin": "CodeMagics",
        "pdb": "ExecutionMagics",
        "pdef": "NamespaceMagics",
        "pdoc": "NamespaceMagics",
        "pfile": "NamespaceMagics",
        "pinfo": "NamespaceMagics",
        "pinfo2": "NamespaceMagics",
        "pip": "PackagingMagics",
        "popd": "OSMagics",
        "pprint": "BasicMagics",
        "precision": "BasicMagics",
        "prun": "ExecutionMagics",
        "psearch": "NamespaceMagics",
        "psource": "NamespaceMagics",
        "pushd": "OSMagics",
        "pwd": "OSMagics",
        "pycat": "OSMagics",
        "pylab": "PylabMagics",
        "qtconsole": "KernelMagics",
        "quickref": "BasicMagics",
        "recall": "HistoryMagics",
        "rehashx": "OSMagics",
        "reload_ext": "ExtensionMagics",
        "rep": "Other",
        "rerun": "HistoryMagics",
        "reset": "NamespaceMagics",
        "reset_selective": "NamespaceMagics",
        "rm": "Other",
        "rmdir": "Other",
        "run": "ExecutionMagics",
        "save": "CodeMagics",
        "sc": "OSMagics",
        "set_env": "OSMagics",
        "store": "StoreMagics",
        "sx": "OSMagics",
        "system": "OSMagics",
        "tb": "ExecutionMagics",
        "time": "ExecutionMagics",
        "timeit": "ExecutionMagics",
        "unalias": "OSMagics",
        "unload_ext": "ExtensionMagics",
        "who": "NamespaceMagics",
        "who_ls": "NamespaceMagics",
        "whos": "NamespaceMagics",
        "xdel": "NamespaceMagics",
        "xmode": "BasicMagics"
       }
      },
      "text/plain": [
       "Available line magics:\n",
       "%alias  %alias_magic  %autoawait  %autocall  %automagic  %autosave  %bookmark  %cat  %cd  %clear  %colors  %conda  %config  %connect_info  %cp  %debug  %dhist  %dirs  %doctest_mode  %ed  %edit  %env  %gui  %hist  %history  %killbgscripts  %ldir  %less  %lf  %lk  %ll  %load  %load_ext  %loadpy  %logoff  %logon  %logstart  %logstate  %logstop  %ls  %lsmagic  %lx  %macro  %magic  %man  %matplotlib  %mkdir  %more  %mv  %notebook  %page  %pastebin  %pdb  %pdef  %pdoc  %pfile  %pinfo  %pinfo2  %pip  %popd  %pprint  %precision  %prun  %psearch  %psource  %pushd  %pwd  %pycat  %pylab  %qtconsole  %quickref  %recall  %rehashx  %reload_ext  %rep  %rerun  %reset  %reset_selective  %rm  %rmdir  %run  %save  %sc  %set_env  %store  %sx  %system  %tb  %time  %timeit  %unalias  %unload_ext  %who  %who_ls  %whos  %xdel  %xmode\n",
       "\n",
       "Available cell magics:\n",
       "%%!  %%HTML  %%SVG  %%bash  %%capture  %%debug  %%file  %%html  %%javascript  %%js  %%latex  %%markdown  %%perl  %%prun  %%pypy  %%python  %%python2  %%python3  %%ruby  %%script  %%sh  %%svg  %%sx  %%system  %%time  %%timeit  %%writefile\n",
       "\n",
       "Automagic is ON, % prefix IS NOT needed for line magics."
      ]
     },
     "execution_count": 3,
     "metadata": {},
     "output_type": "execute_result"
    }
   ],
   "source": [
    "%lsmagic"
   ]
  },
  {
   "cell_type": "code",
   "execution_count": 4,
   "metadata": {},
   "outputs": [
    {
     "name": "stdout",
     "output_type": "stream",
     "text": [
      "\u001b[0m\u001b[01;34m'Área de Trabalho'\u001b[0m/   cidades       'Ex. 5.ipynb'   \u001b[01;34mMúsica\u001b[0m/\r\n",
      " arq1                 \u001b[01;34mDocumentos\u001b[0m/   'Ex. 6.ipynb'   \u001b[01;34mPúblico\u001b[0m/\r\n",
      " arq2                 \u001b[01;34mDownloads\u001b[0m/     \u001b[01;34mImagens\u001b[0m/       \u001b[01;34msnap\u001b[0m/\r\n",
      " \u001b[01;32marquiv\u001b[0m*             'Ex. 1.ipynb'   \u001b[01;35mimgmark.png\u001b[0m    \u001b[01;34mteste-turma-2-fiep\u001b[0m/\r\n",
      " \u001b[01;34mAulas\u001b[0m/              'Ex. 2.ipynb'   \u001b[01;34mlarissa\u001b[0m/       Untitled.ipynb\r\n",
      " \u001b[01;34mbla\u001b[0m/                'Ex. 3.ipynb'   \u001b[01;34mminiconda3\u001b[0m/    untitled.txt\r\n",
      " bla.txt             'Ex. 4.ipynb'   \u001b[01;34mModelos\u001b[0m/       \u001b[01;34mVídeos\u001b[0m/\r\n"
     ]
    }
   ],
   "source": [
    "# Lista arquivos e diretórios\n",
    "\n",
    "%ls"
   ]
  },
  {
   "cell_type": "code",
   "execution_count": 8,
   "metadata": {},
   "outputs": [],
   "source": [
    "# Alterna o esquema de cores para prompts, sistema de informações e manipuladores de exceção, no caso para branco e preto\n",
    "%colors nocolor"
   ]
  },
  {
   "cell_type": "code",
   "execution_count": 9,
   "metadata": {},
   "outputs": [
    {
     "name": "stdout",
     "output_type": "stream",
     "text": [
      "\n",
      "CondaValueError: invalid package specification: [pkgs]\n",
      "\n",
      "\n",
      "Note: you may need to restart the kernel to use updated packages.\n"
     ]
    }
   ],
   "source": [
    "# Executa o gerenciador de pacotes conda no kernel atual\n",
    "%conda install [pkgs]"
   ]
  },
  {
   "cell_type": "code",
   "execution_count": 10,
   "metadata": {},
   "outputs": [
    {
     "name": "stdout",
     "output_type": "stream",
     "text": [
      "Directory history (kept in _dh)\n",
      "0: /home/larissa\n"
     ]
    }
   ],
   "source": [
    "# Imprime seu histórico de diretórios visitados.\n",
    "%dhist"
   ]
  },
  {
   "cell_type": "code",
   "execution_count": 12,
   "metadata": {
    "scrolled": true
   },
   "outputs": [
    {
     "data": {
      "text/plain": [
       "{'SHELL': '/bin/bash',\n",
       " 'SESSION_MANAGER': 'local/hub-System-Product-Name:@/tmp/.ICE-unix/1678,unix/hub-System-Product-Name:/tmp/.ICE-unix/1678',\n",
       " 'QT_ACCESSIBILITY': '1',\n",
       " 'COLORTERM': 'truecolor',\n",
       " 'XDG_CONFIG_DIRS': '/etc/xdg/xdg-ubuntu:/etc/xdg',\n",
       " 'XDG_MENU_PREFIX': 'gnome-',\n",
       " 'GNOME_DESKTOP_SESSION_ID': 'this-is-deprecated',\n",
       " 'GTK_IM_MODULE': 'ibus',\n",
       " 'CONDA_EXE': '/home/larissa/miniconda3/bin/conda',\n",
       " '_CE_M': '',\n",
       " 'LANGUAGE': 'pt_BR:pt:en',\n",
       " 'QT4_IM_MODULE': 'ibus',\n",
       " 'GNOME_SHELL_SESSION_MODE': 'ubuntu',\n",
       " 'SSH_AUTH_SOCK': '/run/user/1001/keyring/ssh',\n",
       " 'XMODIFIERS': '@im=ibus',\n",
       " 'DESKTOP_SESSION': 'ubuntu',\n",
       " 'SSH_AGENT_PID': '1596',\n",
       " 'GTK_MODULES': 'gail:atk-bridge',\n",
       " 'PWD': '/home/larissa',\n",
       " 'LOGNAME': 'larissa',\n",
       " 'XDG_SESSION_DESKTOP': 'ubuntu',\n",
       " 'XDG_SESSION_TYPE': 'x11',\n",
       " 'CONDA_PREFIX': '/home/larissa/miniconda3/envs/lari',\n",
       " 'GPG_AGENT_INFO': '/run/user/1001/gnupg/S.gpg-agent:0:1',\n",
       " 'XAUTHORITY': '/run/user/1001/gdm/Xauthority',\n",
       " 'GJS_DEBUG_TOPICS': 'JS ERROR;JS LOG',\n",
       " 'WINDOWPATH': '2',\n",
       " 'HOME': '/home/larissa',\n",
       " 'USERNAME': 'larissa',\n",
       " 'IM_CONFIG_PHASE': '1',\n",
       " 'LANG': 'pt_BR.UTF-8',\n",
       " 'LS_COLORS': 'rs=0:di=01;34:ln=01;36:mh=00:pi=40;33:so=01;35:do=01;35:bd=40;33;01:cd=40;33;01:or=40;31;01:mi=00:su=37;41:sg=30;43:ca=30;41:tw=30;42:ow=34;42:st=37;44:ex=01;32:*.tar=01;31:*.tgz=01;31:*.arc=01;31:*.arj=01;31:*.taz=01;31:*.lha=01;31:*.lz4=01;31:*.lzh=01;31:*.lzma=01;31:*.tlz=01;31:*.txz=01;31:*.tzo=01;31:*.t7z=01;31:*.zip=01;31:*.z=01;31:*.dz=01;31:*.gz=01;31:*.lrz=01;31:*.lz=01;31:*.lzo=01;31:*.xz=01;31:*.zst=01;31:*.tzst=01;31:*.bz2=01;31:*.bz=01;31:*.tbz=01;31:*.tbz2=01;31:*.tz=01;31:*.deb=01;31:*.rpm=01;31:*.jar=01;31:*.war=01;31:*.ear=01;31:*.sar=01;31:*.rar=01;31:*.alz=01;31:*.ace=01;31:*.zoo=01;31:*.cpio=01;31:*.7z=01;31:*.rz=01;31:*.cab=01;31:*.wim=01;31:*.swm=01;31:*.dwm=01;31:*.esd=01;31:*.jpg=01;35:*.jpeg=01;35:*.mjpg=01;35:*.mjpeg=01;35:*.gif=01;35:*.bmp=01;35:*.pbm=01;35:*.pgm=01;35:*.ppm=01;35:*.tga=01;35:*.xbm=01;35:*.xpm=01;35:*.tif=01;35:*.tiff=01;35:*.png=01;35:*.svg=01;35:*.svgz=01;35:*.mng=01;35:*.pcx=01;35:*.mov=01;35:*.mpg=01;35:*.mpeg=01;35:*.m2v=01;35:*.mkv=01;35:*.webm=01;35:*.ogm=01;35:*.mp4=01;35:*.m4v=01;35:*.mp4v=01;35:*.vob=01;35:*.qt=01;35:*.nuv=01;35:*.wmv=01;35:*.asf=01;35:*.rm=01;35:*.rmvb=01;35:*.flc=01;35:*.avi=01;35:*.fli=01;35:*.flv=01;35:*.gl=01;35:*.dl=01;35:*.xcf=01;35:*.xwd=01;35:*.yuv=01;35:*.cgm=01;35:*.emf=01;35:*.ogv=01;35:*.ogx=01;35:*.aac=00;36:*.au=00;36:*.flac=00;36:*.m4a=00;36:*.mid=00;36:*.midi=00;36:*.mka=00;36:*.mp3=00;36:*.mpc=00;36:*.ogg=00;36:*.ra=00;36:*.wav=00;36:*.oga=00;36:*.opus=00;36:*.spx=00;36:*.xspf=00;36:',\n",
       " 'XDG_CURRENT_DESKTOP': 'ubuntu:GNOME',\n",
       " 'VTE_VERSION': '6001',\n",
       " 'CONDA_PROMPT_MODIFIER': '(lari) ',\n",
       " 'GNOME_TERMINAL_SCREEN': '/org/gnome/Terminal/screen/54c913f0_bfff_4395_8708_aff4ee96193e',\n",
       " 'INVOCATION_ID': '934969b318eb439e9b1de731f69f6970',\n",
       " 'MANAGERPID': '1414',\n",
       " 'CLUTTER_IM_MODULE': 'ibus',\n",
       " 'GJS_DEBUG_OUTPUT': 'stderr',\n",
       " 'LESSCLOSE': '/usr/bin/lesspipe %s %s',\n",
       " 'XDG_SESSION_CLASS': 'user',\n",
       " 'TERM': 'xterm-color',\n",
       " '_CE_CONDA': '',\n",
       " 'LESSOPEN': '| /usr/bin/lesspipe %s',\n",
       " 'USER': 'larissa',\n",
       " 'GNOME_TERMINAL_SERVICE': ':1.99',\n",
       " 'CONDA_SHLVL': '2',\n",
       " 'DISPLAY': ':1',\n",
       " 'SHLVL': '1',\n",
       " 'QT_IM_MODULE': 'ibus',\n",
       " 'CONDA_PYTHON_EXE': '/home/larissa/miniconda3/bin/python',\n",
       " 'XDG_RUNTIME_DIR': '/run/user/1001',\n",
       " 'CONDA_DEFAULT_ENV': 'lari',\n",
       " 'JOURNAL_STREAM': '9:40027',\n",
       " 'XDG_DATA_DIRS': '/usr/share/ubuntu:/usr/local/share/:/usr/share/:/var/lib/snapd/desktop',\n",
       " 'PATH': '/home/larissa/miniconda3/envs/lari/bin:/home/larissa/miniconda3/condabin:/usr/local/sbin:/usr/local/bin:/usr/sbin:/usr/bin:/sbin:/bin:/usr/games:/usr/local/games:/snap/bin',\n",
       " 'GDMSESSION': 'ubuntu',\n",
       " 'DBUS_SESSION_BUS_ADDRESS': 'unix:path=/run/user/1001/bus',\n",
       " 'CONDA_PREFIX_1': '/home/larissa/miniconda3',\n",
       " '_': '/home/larissa/miniconda3/envs/lari/bin/jupyter',\n",
       " 'JPY_PARENT_PID': '5291',\n",
       " 'CLICOLOR': '1',\n",
       " 'PAGER': 'cat',\n",
       " 'GIT_PAGER': 'cat',\n",
       " 'MPLBACKEND': 'module://ipykernel.pylab.backend_inline'}"
      ]
     },
     "execution_count": 12,
     "metadata": {},
     "output_type": "execute_result"
    }
   ],
   "source": [
    "# Obtenha, defina ou liste variáveis de ambiente\n",
    "%env"
   ]
  },
  {
   "cell_type": "code",
   "execution_count": 13,
   "metadata": {},
   "outputs": [],
   "source": [
    "# Imprime informações sobre o sistema de funções mágicas.\n",
    "%magic"
   ]
  }
 ],
 "metadata": {
  "kernelspec": {
   "display_name": "Python 3",
   "language": "python",
   "name": "python3"
  },
  "language_info": {
   "codemirror_mode": {
    "name": "ipython",
    "version": 3
   },
   "file_extension": ".py",
   "mimetype": "text/x-python",
   "name": "python",
   "nbconvert_exporter": "python",
   "pygments_lexer": "ipython3",
   "version": "3.8.5"
  }
 },
 "nbformat": 4,
 "nbformat_minor": 4
}
