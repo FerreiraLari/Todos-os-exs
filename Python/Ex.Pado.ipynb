{
 "cells": [
  {
   "cell_type": "code",
   "execution_count": 1,
   "metadata": {},
   "outputs": [],
   "source": [
    "import pandas as pd\n",
    "import numpy as np\n",
    "import matplotlib.pyplot as plt\n",
    "from datetime import datetime\n",
    "import scipy\n",
    "from scipy import stats\n",
    "from statistics import *"
   ]
  },
  {
   "cell_type": "code",
   "execution_count": 2,
   "metadata": {},
   "outputs": [],
   "source": [
    "# Lendo base\n",
    "data = pd.read_excel('data_Pado.xlsx', sheet_name = 'Exportar Planilha')\n",
    "data = data.drop('Unnamed: 0', 1)"
   ]
  },
  {
   "cell_type": "code",
   "execution_count": 3,
   "metadata": {
    "scrolled": true
   },
   "outputs": [
    {
     "data": {
      "text/html": [
       "<div>\n",
       "<style scoped>\n",
       "    .dataframe tbody tr th:only-of-type {\n",
       "        vertical-align: middle;\n",
       "    }\n",
       "\n",
       "    .dataframe tbody tr th {\n",
       "        vertical-align: top;\n",
       "    }\n",
       "\n",
       "    .dataframe thead th {\n",
       "        text-align: right;\n",
       "    }\n",
       "</style>\n",
       "<table border=\"1\" class=\"dataframe\">\n",
       "  <thead>\n",
       "    <tr style=\"text-align: right;\">\n",
       "      <th></th>\n",
       "      <th>CODIGO</th>\n",
       "      <th>ESTAB</th>\n",
       "      <th>LIMITE_CREDITO</th>\n",
       "      <th>DISPONIVEL</th>\n",
       "      <th>% DISPONIVEL</th>\n",
       "      <th>DT_VALIDADE</th>\n",
       "      <th>CLIENTE_DESTE</th>\n",
       "      <th>CIDADE</th>\n",
       "      <th>UF</th>\n",
       "      <th>CEP</th>\n",
       "      <th>...</th>\n",
       "      <th>NRO_TIT_VCDOS</th>\n",
       "      <th>PRIM_VENCIDO</th>\n",
       "      <th>ULT_VENCIDO</th>\n",
       "      <th>MED_ARIT_TIT_VCDO</th>\n",
       "      <th>MED_ATRASO_PGTO</th>\n",
       "      <th>PEDIDOS_LIB_12_MESES</th>\n",
       "      <th>FATURAMENTO_12_MESES</th>\n",
       "      <th>DESABONADORA</th>\n",
       "      <th>FAKE_CNPJ</th>\n",
       "      <th>FAKE_RAZAO_SOCIAL</th>\n",
       "    </tr>\n",
       "  </thead>\n",
       "  <tbody>\n",
       "    <tr>\n",
       "      <th>0</th>\n",
       "      <td>11214</td>\n",
       "      <td>1</td>\n",
       "      <td>3500.0</td>\n",
       "      <td>773.98</td>\n",
       "      <td>0.221137</td>\n",
       "      <td>15/12/2020</td>\n",
       "      <td>14/11/2008</td>\n",
       "      <td>BRAGANCA PAULISTA</td>\n",
       "      <td>SP</td>\n",
       "      <td>12</td>\n",
       "      <td>...</td>\n",
       "      <td>0</td>\n",
       "      <td>NaN</td>\n",
       "      <td>NaN</td>\n",
       "      <td>0.0</td>\n",
       "      <td>0.000000</td>\n",
       "      <td>3.0</td>\n",
       "      <td>23010.90</td>\n",
       "      <td>NaN</td>\n",
       "      <td>62.904.706/0001-35</td>\n",
       "      <td>Mike WhiteSanchez, Griffin and Mason</td>\n",
       "    </tr>\n",
       "    <tr>\n",
       "      <th>1</th>\n",
       "      <td>17745</td>\n",
       "      <td>1</td>\n",
       "      <td>4100.0</td>\n",
       "      <td>4100.00</td>\n",
       "      <td>1.000000</td>\n",
       "      <td>25/06/2020</td>\n",
       "      <td>14/11/2008</td>\n",
       "      <td>TUPA</td>\n",
       "      <td>SP</td>\n",
       "      <td>17</td>\n",
       "      <td>...</td>\n",
       "      <td>0</td>\n",
       "      <td>NaN</td>\n",
       "      <td>NaN</td>\n",
       "      <td>0.0</td>\n",
       "      <td>0.000000</td>\n",
       "      <td>1.0</td>\n",
       "      <td>2744.45</td>\n",
       "      <td>NaN</td>\n",
       "      <td>09.120.707/0001-06</td>\n",
       "      <td>Ashley DavisCowan-Greene</td>\n",
       "    </tr>\n",
       "    <tr>\n",
       "      <th>2</th>\n",
       "      <td>22128</td>\n",
       "      <td>1</td>\n",
       "      <td>6250.0</td>\n",
       "      <td>6250.00</td>\n",
       "      <td>1.000000</td>\n",
       "      <td>10/10/2020</td>\n",
       "      <td>14/11/2008</td>\n",
       "      <td>INDAIATUBA</td>\n",
       "      <td>SP</td>\n",
       "      <td>13</td>\n",
       "      <td>...</td>\n",
       "      <td>0</td>\n",
       "      <td>NaN</td>\n",
       "      <td>NaN</td>\n",
       "      <td>0.0</td>\n",
       "      <td>4.250000</td>\n",
       "      <td>1.0</td>\n",
       "      <td>1989.10</td>\n",
       "      <td>NaN</td>\n",
       "      <td>36.684.802/0001-05</td>\n",
       "      <td>Kimberly HernandezFlores, Mcbride and Barajas</td>\n",
       "    </tr>\n",
       "    <tr>\n",
       "      <th>3</th>\n",
       "      <td>10385</td>\n",
       "      <td>1</td>\n",
       "      <td>19200.0</td>\n",
       "      <td>19200.00</td>\n",
       "      <td>1.000000</td>\n",
       "      <td>25/12/2020</td>\n",
       "      <td>14/11/2008</td>\n",
       "      <td>BRASILIA</td>\n",
       "      <td>DF</td>\n",
       "      <td>72</td>\n",
       "      <td>...</td>\n",
       "      <td>0</td>\n",
       "      <td>NaN</td>\n",
       "      <td>NaN</td>\n",
       "      <td>0.0</td>\n",
       "      <td>0.000000</td>\n",
       "      <td>2.0</td>\n",
       "      <td>10744.39</td>\n",
       "      <td>NaN</td>\n",
       "      <td>93.854.794/0001-31</td>\n",
       "      <td>Dylan EvansColeman, Reid and Logan</td>\n",
       "    </tr>\n",
       "    <tr>\n",
       "      <th>4</th>\n",
       "      <td>10385</td>\n",
       "      <td>2</td>\n",
       "      <td>19200.0</td>\n",
       "      <td>19200.00</td>\n",
       "      <td>1.000000</td>\n",
       "      <td>25/12/2020</td>\n",
       "      <td>14/11/2008</td>\n",
       "      <td>BRASILIA</td>\n",
       "      <td>DF</td>\n",
       "      <td>71</td>\n",
       "      <td>...</td>\n",
       "      <td>0</td>\n",
       "      <td>NaN</td>\n",
       "      <td>NaN</td>\n",
       "      <td>0.0</td>\n",
       "      <td>0.000000</td>\n",
       "      <td>3.0</td>\n",
       "      <td>10184.95</td>\n",
       "      <td>NaN</td>\n",
       "      <td>98.441.017/0001-89</td>\n",
       "      <td>Jill SchneiderHopkins, Beltran and Mckee</td>\n",
       "    </tr>\n",
       "    <tr>\n",
       "      <th>...</th>\n",
       "      <td>...</td>\n",
       "      <td>...</td>\n",
       "      <td>...</td>\n",
       "      <td>...</td>\n",
       "      <td>...</td>\n",
       "      <td>...</td>\n",
       "      <td>...</td>\n",
       "      <td>...</td>\n",
       "      <td>...</td>\n",
       "      <td>...</td>\n",
       "      <td>...</td>\n",
       "      <td>...</td>\n",
       "      <td>...</td>\n",
       "      <td>...</td>\n",
       "      <td>...</td>\n",
       "      <td>...</td>\n",
       "      <td>...</td>\n",
       "      <td>...</td>\n",
       "      <td>...</td>\n",
       "      <td>...</td>\n",
       "      <td>...</td>\n",
       "    </tr>\n",
       "    <tr>\n",
       "      <th>3848</th>\n",
       "      <td>20778</td>\n",
       "      <td>1</td>\n",
       "      <td>13200.0</td>\n",
       "      <td>11200.00</td>\n",
       "      <td>0.848485</td>\n",
       "      <td>28/10/2020</td>\n",
       "      <td>14/11/2008</td>\n",
       "      <td>BRUMADO</td>\n",
       "      <td>BA</td>\n",
       "      <td>46</td>\n",
       "      <td>...</td>\n",
       "      <td>1</td>\n",
       "      <td>17/08/2020</td>\n",
       "      <td>17/08/2020</td>\n",
       "      <td>3.0</td>\n",
       "      <td>0.000000</td>\n",
       "      <td>3.0</td>\n",
       "      <td>6752.85</td>\n",
       "      <td>NaN</td>\n",
       "      <td>89.173.183/0001-50</td>\n",
       "      <td>Jonathan TurnerBrooks Group</td>\n",
       "    </tr>\n",
       "    <tr>\n",
       "      <th>3849</th>\n",
       "      <td>16907</td>\n",
       "      <td>1</td>\n",
       "      <td>25200.0</td>\n",
       "      <td>25200.00</td>\n",
       "      <td>1.000000</td>\n",
       "      <td>15/12/2019</td>\n",
       "      <td>14/11/2008</td>\n",
       "      <td>LUCAS DO RIO VERDE</td>\n",
       "      <td>MT</td>\n",
       "      <td>78</td>\n",
       "      <td>...</td>\n",
       "      <td>0</td>\n",
       "      <td>NaN</td>\n",
       "      <td>NaN</td>\n",
       "      <td>0.0</td>\n",
       "      <td>0.000000</td>\n",
       "      <td>NaN</td>\n",
       "      <td>2205.60</td>\n",
       "      <td>NaN</td>\n",
       "      <td>47.772.699/0001-71</td>\n",
       "      <td>Courtney KennedyHopkins Group</td>\n",
       "    </tr>\n",
       "    <tr>\n",
       "      <th>3850</th>\n",
       "      <td>10661</td>\n",
       "      <td>5</td>\n",
       "      <td>35200.0</td>\n",
       "      <td>-6150.80</td>\n",
       "      <td>-0.174739</td>\n",
       "      <td>10/10/2020</td>\n",
       "      <td>26/10/2016</td>\n",
       "      <td>DOIS IRMÃOS</td>\n",
       "      <td>RS</td>\n",
       "      <td>93</td>\n",
       "      <td>...</td>\n",
       "      <td>0</td>\n",
       "      <td>NaN</td>\n",
       "      <td>NaN</td>\n",
       "      <td>0.0</td>\n",
       "      <td>0.000000</td>\n",
       "      <td>NaN</td>\n",
       "      <td>NaN</td>\n",
       "      <td>NaN</td>\n",
       "      <td>NaN</td>\n",
       "      <td>Misty OrtegaLee, Conner and Parker</td>\n",
       "    </tr>\n",
       "    <tr>\n",
       "      <th>3851</th>\n",
       "      <td>19295</td>\n",
       "      <td>16</td>\n",
       "      <td>35600.0</td>\n",
       "      <td>-15439.94</td>\n",
       "      <td>-0.433706</td>\n",
       "      <td>05/09/2020</td>\n",
       "      <td>10/07/2018</td>\n",
       "      <td>BELO HORIZONTE</td>\n",
       "      <td>MG</td>\n",
       "      <td>30</td>\n",
       "      <td>...</td>\n",
       "      <td>0</td>\n",
       "      <td>NaN</td>\n",
       "      <td>NaN</td>\n",
       "      <td>0.0</td>\n",
       "      <td>24.761905</td>\n",
       "      <td>NaN</td>\n",
       "      <td>NaN</td>\n",
       "      <td>NaN</td>\n",
       "      <td>NaN</td>\n",
       "      <td>Lindsey SmithMarquez Group</td>\n",
       "    </tr>\n",
       "    <tr>\n",
       "      <th>3852</th>\n",
       "      <td>15047</td>\n",
       "      <td>18</td>\n",
       "      <td>112200.0</td>\n",
       "      <td>82568.93</td>\n",
       "      <td>0.735908</td>\n",
       "      <td>20/10/2020</td>\n",
       "      <td>11/01/2018</td>\n",
       "      <td>BARUERI</td>\n",
       "      <td>SP</td>\n",
       "      <td>64</td>\n",
       "      <td>...</td>\n",
       "      <td>0</td>\n",
       "      <td>NaN</td>\n",
       "      <td>NaN</td>\n",
       "      <td>0.0</td>\n",
       "      <td>0.000000</td>\n",
       "      <td>NaN</td>\n",
       "      <td>NaN</td>\n",
       "      <td>NaN</td>\n",
       "      <td>NaN</td>\n",
       "      <td>Patricia SteinDodson-Wilson</td>\n",
       "    </tr>\n",
       "  </tbody>\n",
       "</table>\n",
       "<p>3853 rows × 25 columns</p>\n",
       "</div>"
      ],
      "text/plain": [
       "      CODIGO  ESTAB  LIMITE_CREDITO  DISPONIVEL  % DISPONIVEL DT_VALIDADE  \\\n",
       "0      11214      1          3500.0      773.98      0.221137  15/12/2020   \n",
       "1      17745      1          4100.0     4100.00      1.000000  25/06/2020   \n",
       "2      22128      1          6250.0     6250.00      1.000000  10/10/2020   \n",
       "3      10385      1         19200.0    19200.00      1.000000  25/12/2020   \n",
       "4      10385      2         19200.0    19200.00      1.000000  25/12/2020   \n",
       "...      ...    ...             ...         ...           ...         ...   \n",
       "3848   20778      1         13200.0    11200.00      0.848485  28/10/2020   \n",
       "3849   16907      1         25200.0    25200.00      1.000000  15/12/2019   \n",
       "3850   10661      5         35200.0    -6150.80     -0.174739  10/10/2020   \n",
       "3851   19295     16         35600.0   -15439.94     -0.433706  05/09/2020   \n",
       "3852   15047     18        112200.0    82568.93      0.735908  20/10/2020   \n",
       "\n",
       "     CLIENTE_DESTE              CIDADE  UF  CEP  ... NRO_TIT_VCDOS  \\\n",
       "0       14/11/2008   BRAGANCA PAULISTA  SP   12  ...             0   \n",
       "1       14/11/2008                TUPA  SP   17  ...             0   \n",
       "2       14/11/2008          INDAIATUBA  SP   13  ...             0   \n",
       "3       14/11/2008            BRASILIA  DF   72  ...             0   \n",
       "4       14/11/2008            BRASILIA  DF   71  ...             0   \n",
       "...            ...                 ...  ..  ...  ...           ...   \n",
       "3848    14/11/2008             BRUMADO  BA   46  ...             1   \n",
       "3849    14/11/2008  LUCAS DO RIO VERDE  MT   78  ...             0   \n",
       "3850    26/10/2016         DOIS IRMÃOS  RS   93  ...             0   \n",
       "3851    10/07/2018      BELO HORIZONTE  MG   30  ...             0   \n",
       "3852    11/01/2018             BARUERI  SP   64  ...             0   \n",
       "\n",
       "      PRIM_VENCIDO  ULT_VENCIDO  MED_ARIT_TIT_VCDO  MED_ATRASO_PGTO  \\\n",
       "0              NaN          NaN                0.0         0.000000   \n",
       "1              NaN          NaN                0.0         0.000000   \n",
       "2              NaN          NaN                0.0         4.250000   \n",
       "3              NaN          NaN                0.0         0.000000   \n",
       "4              NaN          NaN                0.0         0.000000   \n",
       "...            ...          ...                ...              ...   \n",
       "3848    17/08/2020   17/08/2020                3.0         0.000000   \n",
       "3849           NaN          NaN                0.0         0.000000   \n",
       "3850           NaN          NaN                0.0         0.000000   \n",
       "3851           NaN          NaN                0.0        24.761905   \n",
       "3852           NaN          NaN                0.0         0.000000   \n",
       "\n",
       "      PEDIDOS_LIB_12_MESES FATURAMENTO_12_MESES DESABONADORA  \\\n",
       "0                      3.0             23010.90          NaN   \n",
       "1                      1.0              2744.45          NaN   \n",
       "2                      1.0              1989.10          NaN   \n",
       "3                      2.0             10744.39          NaN   \n",
       "4                      3.0             10184.95          NaN   \n",
       "...                    ...                  ...          ...   \n",
       "3848                   3.0              6752.85          NaN   \n",
       "3849                   NaN              2205.60          NaN   \n",
       "3850                   NaN                  NaN          NaN   \n",
       "3851                   NaN                  NaN          NaN   \n",
       "3852                   NaN                  NaN          NaN   \n",
       "\n",
       "               FAKE_CNPJ                              FAKE_RAZAO_SOCIAL  \n",
       "0     62.904.706/0001-35           Mike WhiteSanchez, Griffin and Mason  \n",
       "1     09.120.707/0001-06                       Ashley DavisCowan-Greene  \n",
       "2     36.684.802/0001-05  Kimberly HernandezFlores, Mcbride and Barajas  \n",
       "3     93.854.794/0001-31             Dylan EvansColeman, Reid and Logan  \n",
       "4     98.441.017/0001-89       Jill SchneiderHopkins, Beltran and Mckee  \n",
       "...                  ...                                            ...  \n",
       "3848  89.173.183/0001-50                    Jonathan TurnerBrooks Group  \n",
       "3849  47.772.699/0001-71                  Courtney KennedyHopkins Group  \n",
       "3850                 NaN             Misty OrtegaLee, Conner and Parker  \n",
       "3851                 NaN                     Lindsey SmithMarquez Group  \n",
       "3852                 NaN                    Patricia SteinDodson-Wilson  \n",
       "\n",
       "[3853 rows x 25 columns]"
      ]
     },
     "execution_count": 3,
     "metadata": {},
     "output_type": "execute_result"
    }
   ],
   "source": [
    "#Exibindo dados\n",
    "data"
   ]
  },
  {
   "cell_type": "markdown",
   "metadata": {},
   "source": [
    "O que não ficou claro:\n",
    "* O significado da coluna ESTAB (não consta no arquivo dicionário)\n",
    "* Média de títulos vencidos é em dias? (info consta no dicionário)"
   ]
  },
  {
   "cell_type": "code",
   "execution_count": 4,
   "metadata": {},
   "outputs": [
    {
     "name": "stdout",
     "output_type": "stream",
     "text": [
      "<class 'pandas.core.frame.DataFrame'>\n",
      "RangeIndex: 3853 entries, 0 to 3852\n",
      "Data columns (total 25 columns):\n",
      " #   Column                Non-Null Count  Dtype  \n",
      "---  ------                --------------  -----  \n",
      " 0   CODIGO                3853 non-null   int64  \n",
      " 1   ESTAB                 3853 non-null   int64  \n",
      " 2   LIMITE_CREDITO        3853 non-null   float64\n",
      " 3   DISPONIVEL            3853 non-null   float64\n",
      " 4   % DISPONIVEL          3811 non-null   float64\n",
      " 5   DT_VALIDADE           3785 non-null   object \n",
      " 6   CLIENTE_DESTE         3853 non-null   object \n",
      " 7   CIDADE                3853 non-null   object \n",
      " 8   UF                    3853 non-null   object \n",
      " 9   CEP                   3853 non-null   int64  \n",
      " 10  ULTIMA_NOTA           3853 non-null   object \n",
      " 11  VALOR_ULTIMA_NOTA     3853 non-null   float64\n",
      " 12  VALOR_A_VENCER        3853 non-null   float64\n",
      " 13  PZO_MEDIO_DIAS        3853 non-null   float64\n",
      " 14  VCDOS_NAO_PAGOS       3853 non-null   float64\n",
      " 15  NRO_TIT_VCDOS         3853 non-null   int64  \n",
      " 16  PRIM_VENCIDO          54 non-null     object \n",
      " 17  ULT_VENCIDO           54 non-null     object \n",
      " 18  MED_ARIT_TIT_VCDO     3853 non-null   float64\n",
      " 19  MED_ATRASO_PGTO       3853 non-null   float64\n",
      " 20  PEDIDOS_LIB_12_MESES  3629 non-null   float64\n",
      " 21  FATURAMENTO_12_MESES  3776 non-null   float64\n",
      " 22  DESABONADORA          177 non-null    object \n",
      " 23  FAKE_CNPJ             3850 non-null   object \n",
      " 24  FAKE_RAZAO_SOCIAL     3853 non-null   object \n",
      "dtypes: float64(11), int64(4), object(10)\n",
      "memory usage: 752.7+ KB\n"
     ]
    }
   ],
   "source": [
    "# Exibindo algumas informações - quantidade de nulos por coluna\n",
    "data.info()"
   ]
  },
  {
   "cell_type": "code",
   "execution_count": 5,
   "metadata": {},
   "outputs": [
    {
     "data": {
      "text/plain": [
       "CODIGO                     0\n",
       "ESTAB                      0\n",
       "LIMITE_CREDITO             0\n",
       "DISPONIVEL                 0\n",
       "% DISPONIVEL              42\n",
       "DT_VALIDADE               68\n",
       "CLIENTE_DESTE              0\n",
       "CIDADE                     0\n",
       "UF                         0\n",
       "CEP                        0\n",
       "ULTIMA_NOTA                0\n",
       "VALOR_ULTIMA_NOTA          0\n",
       "VALOR_A_VENCER             0\n",
       "PZO_MEDIO_DIAS             0\n",
       "VCDOS_NAO_PAGOS            0\n",
       "NRO_TIT_VCDOS              0\n",
       "PRIM_VENCIDO            3799\n",
       "ULT_VENCIDO             3799\n",
       "MED_ARIT_TIT_VCDO          0\n",
       "MED_ATRASO_PGTO            0\n",
       "PEDIDOS_LIB_12_MESES     224\n",
       "FATURAMENTO_12_MESES      77\n",
       "DESABONADORA            3676\n",
       "FAKE_CNPJ                  3\n",
       "FAKE_RAZAO_SOCIAL          0\n",
       "dtype: int64"
      ]
     },
     "execution_count": 5,
     "metadata": {},
     "output_type": "execute_result"
    }
   ],
   "source": [
    "data.isnull().sum()"
   ]
  },
  {
   "cell_type": "markdown",
   "metadata": {},
   "source": [
    "Colunas que possuem células em branco:\n",
    "* % DISPONIVEL\n",
    "* DT_VALIDADE\n",
    "* PRIM_VENCIDO\n",
    "* ULT_VENCIDO\n",
    "* PEDIDOS_LIB_12_MESES\n",
    "* FATURAMENTO_12_MESES\n",
    "* DESABONADORA\n",
    "* FAKE_CNPJ"
   ]
  },
  {
   "cell_type": "markdown",
   "metadata": {},
   "source": [
    "Para a coluna % DISPONIVEL a estratégia usada será substituir valores nulos por zero, pois observando os dados o limite disponível nesses casos foi zero ou negativo, sendo assim a % do limite disponível também deve ser zero. O código abaixo implementa essa mudança:"
   ]
  },
  {
   "cell_type": "code",
   "execution_count": 6,
   "metadata": {},
   "outputs": [
    {
     "data": {
      "text/plain": [
       "CODIGO                     0\n",
       "ESTAB                      0\n",
       "LIMITE_CREDITO             0\n",
       "DISPONIVEL                 0\n",
       "% DISPONIVEL               0\n",
       "DT_VALIDADE               68\n",
       "CLIENTE_DESTE              0\n",
       "CIDADE                     0\n",
       "UF                         0\n",
       "CEP                        0\n",
       "ULTIMA_NOTA                0\n",
       "VALOR_ULTIMA_NOTA          0\n",
       "VALOR_A_VENCER             0\n",
       "PZO_MEDIO_DIAS             0\n",
       "VCDOS_NAO_PAGOS            0\n",
       "NRO_TIT_VCDOS              0\n",
       "PRIM_VENCIDO            3799\n",
       "ULT_VENCIDO             3799\n",
       "MED_ARIT_TIT_VCDO          0\n",
       "MED_ATRASO_PGTO            0\n",
       "PEDIDOS_LIB_12_MESES     224\n",
       "FATURAMENTO_12_MESES      77\n",
       "DESABONADORA            3676\n",
       "FAKE_CNPJ                  3\n",
       "FAKE_RAZAO_SOCIAL          0\n",
       "dtype: int64"
      ]
     },
     "execution_count": 6,
     "metadata": {},
     "output_type": "execute_result"
    }
   ],
   "source": [
    "data.update(data['% DISPONIVEL'].fillna(0))\n",
    "# Note que a quantidade de valores nulos para a coluna % DISPONIVEL mudou para 0\n",
    "data.isnull().sum()"
   ]
  },
  {
   "cell_type": "markdown",
   "metadata": {},
   "source": [
    "Para as colunas DT_VALIDADE, PEDIDOS_LIB_12_MESES e FATURAMENTO_12_MESES a estratégia usada será excluir linhas com valores em branco, pois não representa uma grande perda para o banco de dados. O código abaixo implementa essa mudança:"
   ]
  },
  {
   "cell_type": "code",
   "execution_count": 7,
   "metadata": {},
   "outputs": [
    {
     "data": {
      "text/plain": [
       "CODIGO                     0\n",
       "ESTAB                      0\n",
       "LIMITE_CREDITO             0\n",
       "DISPONIVEL                 0\n",
       "% DISPONIVEL               0\n",
       "DT_VALIDADE                0\n",
       "CLIENTE_DESTE              0\n",
       "CIDADE                     0\n",
       "UF                         0\n",
       "CEP                        0\n",
       "ULTIMA_NOTA                0\n",
       "VALOR_ULTIMA_NOTA          0\n",
       "VALOR_A_VENCER             0\n",
       "PZO_MEDIO_DIAS             0\n",
       "VCDOS_NAO_PAGOS            0\n",
       "NRO_TIT_VCDOS              0\n",
       "PRIM_VENCIDO            3545\n",
       "ULT_VENCIDO             3545\n",
       "MED_ARIT_TIT_VCDO          0\n",
       "MED_ATRASO_PGTO            0\n",
       "PEDIDOS_LIB_12_MESES       0\n",
       "FATURAMENTO_12_MESES       0\n",
       "DESABONADORA            3491\n",
       "FAKE_CNPJ                  0\n",
       "FAKE_RAZAO_SOCIAL          0\n",
       "dtype: int64"
      ]
     },
     "execution_count": 7,
     "metadata": {},
     "output_type": "execute_result"
    }
   ],
   "source": [
    "data = data.dropna(subset = ['DT_VALIDADE', 'PEDIDOS_LIB_12_MESES', 'FATURAMENTO_12_MESES'])\n",
    "# Note agora que a quantidade de nulos mudou para 0 para as colunas DT_VALIDADE, PEDIDOS_LIB_12_MESES e FATURAMENTO_12_MESES\n",
    "data.isnull().sum()"
   ]
  },
  {
   "cell_type": "markdown",
   "metadata": {},
   "source": [
    "Para as colunas PRIM_VENCIDO, ULT_VENCIDO  e DESABONADORA a estratégia usada será excluir as colunas por inteiro, pois representam uma perda muito pequena de informações em comparação ao tamanho da base, dado que encontram-se vazias para a maioria das linhas. O código abaixo implementa essa mudança:"
   ]
  },
  {
   "cell_type": "code",
   "execution_count": 8,
   "metadata": {},
   "outputs": [
    {
     "data": {
      "text/plain": [
       "CODIGO                  0\n",
       "ESTAB                   0\n",
       "LIMITE_CREDITO          0\n",
       "DISPONIVEL              0\n",
       "% DISPONIVEL            0\n",
       "DT_VALIDADE             0\n",
       "CLIENTE_DESTE           0\n",
       "CIDADE                  0\n",
       "UF                      0\n",
       "CEP                     0\n",
       "ULTIMA_NOTA             0\n",
       "VALOR_ULTIMA_NOTA       0\n",
       "VALOR_A_VENCER          0\n",
       "PZO_MEDIO_DIAS          0\n",
       "VCDOS_NAO_PAGOS         0\n",
       "NRO_TIT_VCDOS           0\n",
       "MED_ARIT_TIT_VCDO       0\n",
       "MED_ATRASO_PGTO         0\n",
       "PEDIDOS_LIB_12_MESES    0\n",
       "FATURAMENTO_12_MESES    0\n",
       "FAKE_CNPJ               0\n",
       "FAKE_RAZAO_SOCIAL       0\n",
       "dtype: int64"
      ]
     },
     "execution_count": 8,
     "metadata": {},
     "output_type": "execute_result"
    }
   ],
   "source": [
    "data = data.drop(columns=['PRIM_VENCIDO', 'ULT_VENCIDO', 'DESABONADORA'])\n",
    "# Exibindo quantidade de nulos por coluna (todas sem nulos)\n",
    "data.isnull().sum()"
   ]
  },
  {
   "cell_type": "code",
   "execution_count": 25,
   "metadata": {},
   "outputs": [
    {
     "data": {
      "text/plain": [
       "<AxesSubplot:title={'center':'Histograma da % disponível de crédito'}, ylabel='Frequency'>"
      ]
     },
     "execution_count": 25,
     "metadata": {},
     "output_type": "execute_result"
    },
    {
     "data": {
      "image/png": "[encoded data removed]",
      "text/plain": [
       "<Figure size 720x576 with 1 Axes>"
      ]
     },
     "metadata": {
      "needs_background": "light"
     },
     "output_type": "display_data"
    }
   ],
   "source": [
    "# Exploração Gráficos\n",
    "data['% DISPONIVEL'].plot(kind='hist', title='Histograma da % disponível de crédito', figsize=(10,8), legend=True, fontsize=15)"
   ]
  },
  {
   "cell_type": "code",
   "execution_count": 31,
   "metadata": {},
   "outputs": [
    {
     "data": {
      "text/plain": [
       "<AxesSubplot:title={'center':'Prazo médio de vencimentos nos últimos 12 meses'}>"
      ]
     },
     "execution_count": 31,
     "metadata": {},
     "output_type": "execute_result"
    },
    {
     "data": {
      "image/png": "[encoded data removed]",
      "text/plain": [
       "<Figure size 720x576 with 1 Axes>"
      ]
     },
     "metadata": {
      "needs_background": "light"
     },
     "output_type": "display_data"
    }
   ],
   "source": [
    "data['PZO_MEDIO_DIAS'].plot(kind='box', title='Prazo médio de vencimentos nos últimos 12 meses', figsize=(10,8), legend=True, fontsize=15)"
   ]
  },
  {
   "cell_type": "code",
   "execution_count": 34,
   "metadata": {},
   "outputs": [
    {
     "data": {
      "text/plain": [
       "<AxesSubplot:xlabel='VALOR_ULTIMA_NOTA', ylabel='LIMITE_CREDITO'>"
      ]
     },
     "execution_count": 34,
     "metadata": {},
     "output_type": "execute_result"
    },
    {
     "data": {
      "image/png": "[encoded data removed]",
      "text/plain": [
       "<Figure size 720x576 with 1 Axes>"
      ]
     },
     "metadata": {
      "needs_background": "light"
     },
     "output_type": "display_data"
    }
   ],
   "source": [
    "data.plot(x='VALOR_ULTIMA_NOTA', y='LIMITE_CREDITO', kind='scatter', figsize=(10,8))"
   ]
  },
  {
   "cell_type": "code",
   "execution_count": null,
   "metadata": {},
   "outputs": [],
   "source": []
  }
 ],
 "metadata": {
  "kernelspec": {
   "display_name": "Python 3",
   "language": "python",
   "name": "python3"
  },
  "language_info": {
   "codemirror_mode": {
    "name": "ipython",
    "version": 3
   },
   "file_extension": ".py",
   "mimetype": "text/x-python",
   "name": "python",
   "nbconvert_exporter": "python",
   "pygments_lexer": "ipython3",
   "version": "3.8.3"
  }
 },
 "nbformat": 4,
 "nbformat_minor": 4
}
