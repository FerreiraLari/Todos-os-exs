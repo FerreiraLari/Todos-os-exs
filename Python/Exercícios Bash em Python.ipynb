{
 "cells": [
  {
   "cell_type": "markdown",
   "metadata": {},
   "source": [
    "1) Exibir apenas números naturais ímpares de 1 até 99."
   ]
  },
  {
   "cell_type": "code",
   "execution_count": 9,
   "metadata": {},
   "outputs": [
    {
     "name": "stdout",
     "output_type": "stream",
     "text": [
      "1\n",
      "3\n",
      "5\n",
      "7\n",
      "9\n",
      "11\n",
      "13\n",
      "15\n",
      "17\n",
      "19\n",
      "21\n",
      "23\n",
      "25\n",
      "27\n",
      "29\n",
      "31\n",
      "33\n",
      "35\n",
      "37\n",
      "39\n",
      "41\n",
      "43\n",
      "45\n",
      "47\n",
      "49\n",
      "51\n",
      "53\n",
      "55\n",
      "57\n",
      "59\n",
      "61\n",
      "63\n",
      "65\n",
      "67\n",
      "69\n",
      "71\n",
      "73\n",
      "75\n",
      "77\n",
      "79\n",
      "81\n",
      "83\n",
      "85\n",
      "87\n",
      "89\n",
      "91\n",
      "93\n",
      "95\n",
      "97\n",
      "99\n"
     ]
    }
   ],
   "source": [
    "for i in range(1,100):\n",
    "    if (i % 2 != 0):\n",
    "        print (i)"
   ]
  },
  {
   "cell_type": "markdown",
   "metadata": {},
   "source": [
    "2) Escreva um script Bash que aceite como entrada um nome e exiba uma saudação: \"Bem-vindo (nome)\""
   ]
  },
  {
   "cell_type": "code",
   "execution_count": 11,
   "metadata": {},
   "outputs": [
    {
     "name": "stdout",
     "output_type": "stream",
     "text": [
      "Digite seu nome: Lari\n",
      "Bem-vindo Lari\n"
     ]
    }
   ],
   "source": [
    "nome = input(\"Digite seu nome: \")\n",
    "print(\"Bem-vindo\", nome)"
   ]
  },
  {
   "cell_type": "markdown",
   "metadata": {},
   "source": [
    "3) Use um loop para exibir os números naturais de 1 até 50"
   ]
  },
  {
   "cell_type": "code",
   "execution_count": 12,
   "metadata": {},
   "outputs": [
    {
     "name": "stdout",
     "output_type": "stream",
     "text": [
      "1\n",
      "2\n",
      "3\n",
      "4\n",
      "5\n",
      "6\n",
      "7\n",
      "8\n",
      "9\n",
      "10\n",
      "11\n",
      "12\n",
      "13\n",
      "14\n",
      "15\n",
      "16\n",
      "17\n",
      "18\n",
      "19\n",
      "20\n",
      "21\n",
      "22\n",
      "23\n",
      "24\n",
      "25\n",
      "26\n",
      "27\n",
      "28\n",
      "29\n",
      "30\n",
      "31\n",
      "32\n",
      "33\n",
      "34\n",
      "35\n",
      "36\n",
      "37\n",
      "38\n",
      "39\n",
      "40\n",
      "41\n",
      "42\n",
      "43\n",
      "44\n",
      "45\n",
      "46\n",
      "47\n",
      "48\n",
      "49\n",
      "50\n"
     ]
    }
   ],
   "source": [
    "for i in range(1,51):\n",
    "    print (i)"
   ]
  },
  {
   "cell_type": "markdown",
   "metadata": {},
   "source": [
    "4) Dado dois números inteiros, e, encontre sua soma, diferença, produto, quociente e resto da divisão."
   ]
  },
  {
   "cell_type": "code",
   "execution_count": 16,
   "metadata": {},
   "outputs": [
    {
     "name": "stdout",
     "output_type": "stream",
     "text": [
      "Digite um número inteiro: 13\n",
      "Digite mais um número inteiro: 7\n",
      "Soma:  20\n",
      "Diferença:  6\n",
      "Quociente:  1\n",
      "Resto:  6\n"
     ]
    }
   ],
   "source": [
    "n1 = int(input(\"Digite um número inteiro: \"))\n",
    "n2 = int(input(\"Digite mais um número inteiro: \"))\n",
    "print(\"Soma: \",n1 + n2)\n",
    "print(\"Diferença: \",n1-n2)\n",
    "print(\"Quociente: \", n1 // n2)\n",
    "print(\"Resto: \", n1 % n2)\n"
   ]
  },
  {
   "cell_type": "markdown",
   "metadata": {},
   "source": [
    "5) Leia em um caractere da entrada Se o caractere for 'Y' ou 'y', exiba \"YES”, se o caractere for 'N' ou 'n', exiba \"NÃO\". Se for outra coisa exiba não conheço"
   ]
  },
  {
   "cell_type": "code",
   "execution_count": 20,
   "metadata": {},
   "outputs": [
    {
     "name": "stdout",
     "output_type": "stream",
     "text": [
      "Digite o caractere: h\n",
      "Não conheço\n"
     ]
    }
   ],
   "source": [
    "c = input(\"Digite o caractere: \")\n",
    "if (c == 'y' or c == 'Y'):\n",
    "    print('YES')\n",
    "elif (c == 'n' or c == 'N'):\n",
    "    print('NÃO')\n",
    "else:\n",
    "    print('Não conheço')"
   ]
  },
  {
   "cell_type": "markdown",
   "metadata": {},
   "source": [
    "6) Dados três números inteiros (representando os três lados de um triângulo, identifique se o triângulo é escaleno, isósceles ou equilátero."
   ]
  },
  {
   "cell_type": "code",
   "execution_count": 23,
   "metadata": {},
   "outputs": [
    {
     "name": "stdout",
     "output_type": "stream",
     "text": [
      "Digite o lado do triângulo (inteiro): 2\n",
      "Digite o lado do triângulo (inteiro): 2\n",
      "Digite o lado do triângulo (inteiro): 4\n",
      "Isósceles\n"
     ]
    }
   ],
   "source": [
    "a = int(input(\"Digite o lado do triângulo (inteiro): \"))\n",
    "b = int(input(\"Digite o lado do triângulo (inteiro): \"))\n",
    "c = int(input(\"Digite o lado do triângulo (inteiro): \"))\n",
    "if (a == b == c):\n",
    "    print (\"Equilátero\")\n",
    "elif (a != b != c):\n",
    "    print (\"Escaleno\")\n",
    "else:\n",
    "    print(\"Isósceles\")"
   ]
  },
  {
   "cell_type": "markdown",
   "metadata": {},
   "source": [
    "7) Receba um número N e o nome de um arquivo gere N números aleatoriamente e salve os números (um em cada linha) no arquivo passado como parâmetro"
   ]
  },
  {
   "cell_type": "code",
   "execution_count": 76,
   "metadata": {},
   "outputs": [
    {
     "name": "stdout",
     "output_type": "stream",
     "text": [
      "Digite um número inteiro e positivo: 10\n"
     ]
    }
   ],
   "source": [
    "N = int(input(\"Digite um número inteiro e positivo: \"))\n",
    "arquivo = open('ex7.txt', 'w')\n",
    "for i in range(0,N):\n",
    "    arquivo = open('ex7.txt', 'r') # Abra o arquivo (leitura)\n",
    "    conteudo = arquivo.readlines()\n",
    "    al = str(random.randrange(0, 100000))\n",
    "    conteudo.append(al + '\\n')  # insira seu conteúdo\n",
    "\n",
    "    arquivo = open('ex7.txt', 'w') # Abre novamente o arquivo (escrita)\n",
    "    arquivo.writelines(conteudo)    # escreva o conteúdo criado anteriormente nele.\n",
    "\n",
    "    arquivo.close()"
   ]
  },
  {
   "cell_type": "markdown",
   "metadata": {},
   "source": [
    "8) Considere um arquivo com diversos números (um em cada linha) calcule a média, desvio padrão e mediana"
   ]
  },
  {
   "cell_type": "code",
   "execution_count": 85,
   "metadata": {},
   "outputs": [
    {
     "name": "stdout",
     "output_type": "stream",
     "text": [
      "Média: 85.0\n",
      "Desvio padrão: 26.63831826523589\n",
      "Mediana: 97.0\n"
     ]
    }
   ],
   "source": [
    "from statistics import *\n",
    "data = []\n",
    "with open(r'stuff.txt') as f:\n",
    "    for line in f:\n",
    "        fields = line.split()\n",
    "        rowdata = map(float, fields)\n",
    "        data.extend(rowdata)\n",
    "\n",
    "print(\"Média:\",mean(data))\n",
    "print(\"Desvio padrão:\",pstdev(data))\n",
    "print(\"Mediana:\",median(data))\n"
   ]
  },
  {
   "cell_type": "markdown",
   "metadata": {},
   "source": [
    "9) Se o valor gasto por um cliente em um determinado dia for maior ou igual à 2x despesa mediana do cliente por um número final de dias, isso é considerado uma fraude potencial e um alerta é emitido.\n",
    "\n",
    "Dado o número de dias finais e as despesas diárias totais de um cliente por um período de dias, localize e imprima o número de vezes que o cliente receberá uma notificação durante todos os dias.\n",
    "\n",
    "Por exemplo, d=3 e gastos = [10,20,30,40,50] Nos três primeiros dias, eles apenas coletam dados de gastos. No dia 4 temos gastos finais [10,20,30] A mediana é 20 e a despesa do dia é 40. 40 é maior ou igual a 2x20 portanto haverá uma notificação de possível fraude No dia 5 os gastos são [20,30,40] a mediana é 30x2 que é igual a 60 e o gasto é 50 que é menor que 60, portanto nao haverá notificação de fraude\n",
    "\n",
    "Faça um script bash que recebe a movimentação em um arquivo texto e o valor d como parâmetro e retorno quantas notificações o cliente receberá Crie ao menos 3 arquivos de entrada de movimentação"
   ]
  },
  {
   "cell_type": "code",
   "execution_count": 114,
   "metadata": {},
   "outputs": [
    {
     "name": "stdout",
     "output_type": "stream",
     "text": [
      "Digite o parâmetro d: 3\n",
      "Digite o dia: 4\n",
      "Digite uma lista de valores separados por espaço: 10 20 30 40 50\n"
     ]
    },
    {
     "ename": "TypeError",
     "evalue": "'<' not supported between instances of 'str' and 'int'",
     "output_type": "error",
     "traceback": [
      "\u001b[0;31m---------------------------------------------------------------------------\u001b[0m",
      "\u001b[0;31mTypeError\u001b[0m                                 Traceback (most recent call last)",
      "\u001b[0;32m<ipython-input-114-6636f17b6de0>\u001b[0m in \u001b[0;36m<module>\u001b[0;34m\u001b[0m\n\u001b[1;32m      6\u001b[0m \u001b[0;32mfor\u001b[0m \u001b[0mi\u001b[0m \u001b[0;32min\u001b[0m \u001b[0mrange\u001b[0m\u001b[0;34m(\u001b[0m\u001b[0;36m0\u001b[0m\u001b[0;34m,\u001b[0m \u001b[0mlen\u001b[0m\u001b[0;34m(\u001b[0m\u001b[0ml3\u001b[0m\u001b[0;34m)\u001b[0m\u001b[0;34m)\u001b[0m\u001b[0;34m:\u001b[0m\u001b[0;34m\u001b[0m\u001b[0;34m\u001b[0m\u001b[0m\n\u001b[1;32m      7\u001b[0m     \u001b[0ml3\u001b[0m\u001b[0;34m[\u001b[0m\u001b[0mi\u001b[0m\u001b[0;34m]\u001b[0m \u001b[0;34m=\u001b[0m \u001b[0mint\u001b[0m\u001b[0;34m(\u001b[0m\u001b[0ml3\u001b[0m\u001b[0;34m[\u001b[0m\u001b[0mi\u001b[0m\u001b[0;34m]\u001b[0m\u001b[0;34m)\u001b[0m\u001b[0;34m\u001b[0m\u001b[0;34m\u001b[0m\u001b[0m\n\u001b[0;32m----> 8\u001b[0;31m     \u001b[0mmedian\u001b[0m\u001b[0;34m(\u001b[0m\u001b[0ml3\u001b[0m\u001b[0;34m)\u001b[0m\u001b[0;34m\u001b[0m\u001b[0;34m\u001b[0m\u001b[0m\n\u001b[0m\u001b[1;32m      9\u001b[0m \u001b[0;34m\u001b[0m\u001b[0m\n\u001b[1;32m     10\u001b[0m \u001b[0;34m\u001b[0m\u001b[0m\n",
      "\u001b[0;32m~/miniconda3/envs/lari/lib/python3.8/statistics.py\u001b[0m in \u001b[0;36mmedian\u001b[0;34m(data)\u001b[0m\n\u001b[1;32m    425\u001b[0m \u001b[0;34m\u001b[0m\u001b[0m\n\u001b[1;32m    426\u001b[0m     \"\"\"\n\u001b[0;32m--> 427\u001b[0;31m     \u001b[0mdata\u001b[0m \u001b[0;34m=\u001b[0m \u001b[0msorted\u001b[0m\u001b[0;34m(\u001b[0m\u001b[0mdata\u001b[0m\u001b[0;34m)\u001b[0m\u001b[0;34m\u001b[0m\u001b[0;34m\u001b[0m\u001b[0m\n\u001b[0m\u001b[1;32m    428\u001b[0m     \u001b[0mn\u001b[0m \u001b[0;34m=\u001b[0m \u001b[0mlen\u001b[0m\u001b[0;34m(\u001b[0m\u001b[0mdata\u001b[0m\u001b[0;34m)\u001b[0m\u001b[0;34m\u001b[0m\u001b[0;34m\u001b[0m\u001b[0m\n\u001b[1;32m    429\u001b[0m     \u001b[0;32mif\u001b[0m \u001b[0mn\u001b[0m \u001b[0;34m==\u001b[0m \u001b[0;36m0\u001b[0m\u001b[0;34m:\u001b[0m\u001b[0;34m\u001b[0m\u001b[0;34m\u001b[0m\u001b[0m\n",
      "\u001b[0;31mTypeError\u001b[0m: '<' not supported between instances of 'str' and 'int'"
     ]
    }
   ],
   "source": [
    "import statistics \n",
    "d = int(input(\"Digite o parâmetro d: \"))\n",
    "dia = int(input(\"Digite o dia: \"))\n",
    "l1 = input(\"Digite uma lista de valores separados por espaço: \")\n",
    "l2 = l1.split()\n",
    "l3 = l2[(dia-d-1):(dia-1)]\n",
    "for i in range(0, len(l3)): \n",
    "    l3[i] = int(l3[i])\n",
    "    median(l3)\n",
    "\n",
    "    \n",
    "    "
   ]
  },
  {
   "cell_type": "markdown",
   "metadata": {},
   "source": [
    "10) Para duas cadeias A e B, definimos a similaridade das cadeias como sendo o comprimento do prefixo mais longo comum a ambas as cadeias. Por exemplo, a similaridade das cadeias \"abc\" e \"abd\" é 2, enquanto a similaridade das cadeias \"aaa\" e \"aaab\" é 3.\n",
    "\n",
    "Crie um script bash que implementa essa função de similaridade Invente uma outra métrica de obter similaridade de strings e faça uma análise comparativa usando uma mesma entrada"
   ]
  },
  {
   "cell_type": "code",
   "execution_count": null,
   "metadata": {},
   "outputs": [],
   "source": []
  },
  {
   "cell_type": "markdown",
   "metadata": {},
   "source": [
    "11) Desenvolver uma aplicação em bash\n",
    "\n",
    "Realizar cadastros: usuários: id_usuario, Nome, idade, sexo Produtos: id_produto, valor, tamanho nota_fiscal: id_compra,id_usuario,data produtos_nota_fiscal: id_compra,id_produto,quantidade\n",
    "\n",
    "Criar um módulo que calcula:\n",
    "\n",
    "1. Média de quantidade de produtos comprados por usuário\n",
    "2. Média de valor por usuário\n",
    "3. Mostrar média de valor por categoria de usuário\n",
    "    * Ex1: média de valor gasto por homem x mulher\n",
    "    * Ex2: média de valor gasto por pessoas com idade entre 0 a 18 x pessoas com idade entre 18 a 99\n",
    "4. Valor médio de compra por horário"
   ]
  },
  {
   "cell_type": "code",
   "execution_count": 101,
   "metadata": {},
   "outputs": [
    {
     "name": "stdout",
     "output_type": "stream",
     "text": [
      "Digite a id_usuario: dani\n",
      "Digite o nome: Daniel\n",
      "Digite a idade em anos: 15\n",
      "Digite o sexo (M ou F): M\n",
      "Digite o id do produto: dff\n",
      "Digite o id da compra: bgvrh\n",
      "Digite o valor: 39.25\n",
      "Digite o tamanho (pp, m, g ou gg): g\n",
      "Digite a quantidade: 2\n"
     ]
    }
   ],
   "source": [
    "id_usuario = input(\"Digite a id_usuario: \")\n",
    "nome = input(\"Digite o nome: \")\n",
    "idade = input(\"Digite a idade em anos: \")\n",
    "sexo = input(\"Digite o sexo (M ou F): \")\n",
    "id_produto = input(\"Digite o id do produto: \")\n",
    "id_compra = input(\"Digite o id da compra: \")\n",
    "valor = input(\"Digite o valor: \")\n",
    "tamanho = input(\"Digite o tamanho (pp, m, g ou gg): \")\n",
    "quantidade = input(\"Digite a quantidade: \")\n",
    "wf = open('ex11.txt', 'a')\n",
    "wf.write(str(id_usuario + ';' + nome +';' + idade + ';' + sexo + ';' + id_produto + ';' + id_compra + ';' + valor + ';' + tamanho + ';' + quantidade + '\\n'))\n",
    "wf.close()\n",
    "\n"
   ]
  },
  {
   "cell_type": "code",
   "execution_count": 107,
   "metadata": {},
   "outputs": [
    {
     "name": "stdout",
     "output_type": "stream",
     "text": [
      "['Larife;Larissa;23;F;ju;ja;25.89;p;2']\n",
      "['Larife;Larissa;23;F;ju;ja;25.89;p;2', 'Joa1;João;58;M;ja;ta;89.98;gg;3']\n",
      "['Larife;Larissa;23;F;ju;ja;25.89;p;2', 'Joa1;João;58;M;ja;ta;89.98;gg;3', 'pacheco;Paulo;42;M;la;kf;71.48;g;1']\n",
      "['Larife;Larissa;23;F;ju;ja;25.89;p;2', 'Joa1;João;58;M;ja;ta;89.98;gg;3', 'pacheco;Paulo;42;M;la;kf;71.48;g;1', 'Aninha;Ana;14;F;lal;ffvg;55.74;pp;2']\n",
      "['Larife;Larissa;23;F;ju;ja;25.89;p;2', 'Joa1;João;58;M;ja;ta;89.98;gg;3', 'pacheco;Paulo;42;M;la;kf;71.48;g;1', 'Aninha;Ana;14;F;lal;ffvg;55.74;pp;2', 'Kaka;Kátia;16;F;gdfh;fhh;74.56;m;1']\n",
      "['Larife;Larissa;23;F;ju;ja;25.89;p;2', 'Joa1;João;58;M;ja;ta;89.98;gg;3', 'pacheco;Paulo;42;M;la;kf;71.48;g;1', 'Aninha;Ana;14;F;lal;ffvg;55.74;pp;2', 'Kaka;Kátia;16;F;gdfh;fhh;74.56;m;1', 'dani;Daniel;15;M;dff;bgvrh;39.25;g;2']\n"
     ]
    }
   ],
   "source": [
    "data = []\n",
    "with open(r'ex11.txt') as f:\n",
    "    for line in f:\n",
    "        fields = line.split()\n",
    "        data.extend(fields)\n",
    "        print(data)"
   ]
  },
  {
   "cell_type": "code",
   "execution_count": null,
   "metadata": {},
   "outputs": [],
   "source": []
  }
 ],
 "metadata": {
  "kernelspec": {
   "display_name": "Python 3",
   "language": "python",
   "name": "python3"
  },
  "language_info": {
   "codemirror_mode": {
    "name": "ipython",
    "version": 3
   },
   "file_extension": ".py",
   "mimetype": "text/x-python",
   "name": "python",
   "nbconvert_exporter": "python",
   "pygments_lexer": "ipython3",
   "version": "3.8.5"
  }
 },
 "nbformat": 4,
 "nbformat_minor": 4
}
